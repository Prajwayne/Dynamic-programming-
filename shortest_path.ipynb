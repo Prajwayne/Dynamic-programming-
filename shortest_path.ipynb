{
  "nbformat": 4,
  "nbformat_minor": 0,
  "metadata": {
    "colab": {
      "provenance": [],
      "authorship_tag": "ABX9TyNQnSIJCeUX+47GgHidoA56",
      "include_colab_link": true
    },
    "kernelspec": {
      "name": "python3",
      "display_name": "Python 3"
    },
    "language_info": {
      "name": "python"
    }
  },
  "cells": [
    {
      "cell_type": "markdown",
      "metadata": {
        "id": "view-in-github",
        "colab_type": "text"
      },
      "source": [
        "<a href=\"https://colab.research.google.com/github/Prajwayne/Dynamic-programming-/blob/main/shortest_path.ipynb\" target=\"_parent\"><img src=\"https://colab.research.google.com/assets/colab-badge.svg\" alt=\"Open In Colab\"/></a>"
      ]
    },
    {
      "cell_type": "code",
      "execution_count": 18,
      "metadata": {
        "id": "al588KXbWGH7"
      },
      "outputs": [],
      "source": [
        "#this algorithm returns shortest paths between 2 nodes \n",
        "\n",
        "from collections import deque\n",
        "\n",
        "def shortPath(edges, nodeA, nodeB):\n",
        "    graph = buildgraph(edges)\n",
        "    visited = set([nodeA])  #to avaode infifte loop keep the track of visited nodes\n",
        "    queue = deque([(nodeA, 0)])\n",
        "\n",
        "    while queue:\n",
        "        node, distance = queue.popleft()\n",
        "\n",
        "        if node == nodeB:\n",
        "            return distance\n",
        "        for neighbour in graph[node]:\n",
        "            if neighbour not in visited:\n",
        "                visited.add(neighbour)\n",
        "                queue.append((neighbour, distance + 1))\n",
        "\n",
        "    return -1\n",
        "\n"
      ]
    },
    {
      "cell_type": "code",
      "source": [
        "#To check if buildgraph function is working \n",
        "\n",
        "\n",
        "def shortestpath(edges,nodeA, nodeB):\n",
        "  graph = buildgraph(edges)\n",
        "  print(graph)\n"
      ],
      "metadata": {
        "id": "sOrheXFIZgpk"
      },
      "execution_count": null,
      "outputs": []
    },
    {
      "cell_type": "code",
      "source": [
        "def buildgraph(edges):\n",
        "    graph = {}\n",
        "    #iterate through every edge \n",
        "    for a, b in edges:\n",
        "        # create for the first time \n",
        "        if a not in graph:\n",
        "            graph[a] = []\n",
        "        if b not in graph:\n",
        "            graph[b] = []\n",
        "        graph[a].append(b)\n",
        "        graph[b].append(a)\n",
        "    return graph\n",
        "\n",
        "\n"
      ],
      "metadata": {
        "id": "OloPpq5wWlV3"
      },
      "execution_count": 19,
      "outputs": []
    },
    {
      "cell_type": "code",
      "source": [
        "edges = [['w','y'],['x','z'],['z','y'],['z','v'],['w','v']]\n",
        "shortPath(edges,'w', 'z')\n",
        "\n"
      ],
      "metadata": {
        "colab": {
          "base_uri": "https://localhost:8080/"
        },
        "id": "7f9A0oNYXzhJ",
        "outputId": "e2f4d10e-cdd0-46f1-933d-37a60a8ea9d0"
      },
      "execution_count": 21,
      "outputs": [
        {
          "output_type": "execute_result",
          "data": {
            "text/plain": [
              "2"
            ]
          },
          "metadata": {},
          "execution_count": 21
        }
      ]
    }
  ]
}